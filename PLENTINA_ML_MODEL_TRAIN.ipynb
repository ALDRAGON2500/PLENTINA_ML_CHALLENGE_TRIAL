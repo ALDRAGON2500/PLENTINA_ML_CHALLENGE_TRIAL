{
 "cells": [
  {
   "cell_type": "code",
   "execution_count": null,
   "id": "054448af",
   "metadata": {},
   "outputs": [],
   "source": [
    "import pandas as pd\n",
    "import numpy as np"
   ]
  },
  {
   "cell_type": "code",
   "execution_count": null,
   "id": "f4375eec",
   "metadata": {},
   "outputs": [],
   "source": [
    "df=pd.read_csv('transactions_train.csv')"
   ]
  },
  {
   "cell_type": "code",
   "execution_count": null,
   "id": "40293159",
   "metadata": {},
   "outputs": [],
   "source": [
    "import pandas as pd \n",
    "import numpy as np \n",
    "from sklearn.compose import ColumnTransformer\n",
    "from sklearn.preprocessing import OneHotEncoder\n",
    "from sklearn.pipeline import Pipeline\n",
    "from catboost import CatBoostClassifier\n",
    "from pickle import load,dump\n",
    "import plotly.graph_objects as go\n",
    "from sklearn.model_selection import StratifiedKFold\n",
    "from sklearn.metrics import make_scorer,f1_score,fbeta_score,precision_score,recall_score,confusion_matrix\n",
    "from skopt import BayesSearchCV,gbrt_minimize,gp_minimize\n",
    "from skopt.space import Integer,Real,Categorical\n",
    "from skopt.utils import use_named_args"
   ]
  },
  {
   "cell_type": "code",
   "execution_count": null,
   "id": "66d2d7c8",
   "metadata": {},
   "outputs": [],
   "source": [
    "#Feature Engineering Function\n",
    "def transform_data(df):\n",
    "    new_df=pd.DataFrame()\n",
    "    \n",
    "    #if the origin account has no initial balance\n",
    "    y=np.where(df['oldbalanceOrig']>0,df['oldbalanceOrig'],1)\n",
    "    x=df['newbalanceOrig']\n",
    "    #percentage inflow/outlflow of account\n",
    "    new_df['percentage_diff_balanceOrig']=np.round(((x/y)-1)*100,3)\n",
    "    #amount in the account before transaction: Is there an initial balance in the account\n",
    "    new_df['NoAmountBalanceOrig']=np.where(df['oldbalanceOrig']>0,1,0)\n",
    "\n",
    "    #if the destination account has no initial balance\n",
    "    y=np.where(df['oldbalanceDest']>0,df['oldbalanceDest'],1)\n",
    "    x=df['newbalanceDest']\n",
    "    #percentage inflow/outlflow of the account\n",
    "    new_df['percentage_diff_balanceDest']=np.round(((x/y)-1)*100,3)\n",
    "    #amount in the account before transaction: Is there an initial balance in the account\n",
    "    new_df['NoAmountBalanceDest']=np.where(df['oldbalanceDest']>0,1,0)\n",
    "\n",
    "    #Transaction Inflow or Outlfow to each account \n",
    "    #1:Inflow\n",
    "    #0: No Change\n",
    "    #-1: Outflow\n",
    "    new_df['signbalanceOrig']=np.sign(df['newbalanceOrig']-df['oldbalanceOrig'])\n",
    "    new_df['signbalanceDest']=np.sign(df['newbalanceDest']-df['oldbalanceDest'])\n",
    "\n",
    "    x=np.where(df['amount']>0,df['amount'],1)\n",
    "    new_df['AmountBalanceDiffOrig']=np.absolute((df['newbalanceOrig']-df['oldbalanceOrig']))/x\n",
    "    new_df['AmountBalanceDiffDest']=np.absolute((df['newbalanceDest']-df['oldbalanceDest']))/x\n",
    "\n",
    "    new_df['AmountBalanceDiffOrig']=new_df['AmountBalanceDiffOrig'].round(3)\n",
    "    new_df['AmountBalanceDiffDest']=new_df['AmountBalanceDiffDest'].round(3)\n",
    "\n",
    "    new_df['isAmount']=np.where(df['amount']>0,1,0)\n",
    "    \n",
    "    \n",
    "    xi=df[['step','type']]\n",
    "    xii=new_df[['percentage_diff_balanceOrig', 'NoAmountBalanceOrig','percentage_diff_balanceDest', 'NoAmountBalanceDest', 'signbalanceOrig','signbalanceDest', 'AmountBalanceDiffOrig', 'AmountBalanceDiffDest','isAmount']]\n",
    "    \n",
    "    return pd.concat([xi,xii],axis=1)"
   ]
  },
  {
   "cell_type": "code",
   "execution_count": null,
   "id": "505c2c67",
   "metadata": {},
   "outputs": [],
   "source": [
    "X=transform_data(df).values"
   ]
  },
  {
   "cell_type": "code",
   "execution_count": null,
   "id": "2ce423dd",
   "metadata": {},
   "outputs": [],
   "source": [
    "Y=df['isFraud'].values"
   ]
  },
  {
   "cell_type": "code",
   "execution_count": null,
   "id": "eabaee4a",
   "metadata": {},
   "outputs": [],
   "source": [
    "para={'cat__bagging_temperature': 0.25837166197274813,\n",
    " 'cat__border_count': 16,\n",
    " 'cat__depth': 17,\n",
    " 'cat__iterations': 758,\n",
    " 'cat__l2_leaf_reg': 27.557949627695663,\n",
    " 'cat__learning_rate': 0.014570946584675377,\n",
    " 'cat__max_leaves': 35,\n",
    " 'cat__min_data_in_leaf': 26,\n",
    " 'cat__random_strength': 0.005257823862746219,\n",
    " 'cat__scale_pos_weight': 302.93935619924673}"
   ]
  },
  {
   "cell_type": "code",
   "execution_count": null,
   "id": "3194652d",
   "metadata": {},
   "outputs": [],
   "source": [
    "model=model.fit(X,Y)"
   ]
  },
  {
   "cell_type": "code",
   "execution_count": null,
   "id": "6e44a387",
   "metadata": {},
   "outputs": [],
   "source": [
    "from sklearn.model_selection import train_test_split"
   ]
  },
  {
   "cell_type": "code",
   "execution_count": null,
   "id": "3a0cd911",
   "metadata": {},
   "outputs": [],
   "source": [
    "cat=CatBoostClassifier(loss_function='Logloss',grow_policy='Lossguide',bootstrap_type='Bayesian',task_type='GPU',metric_period=25,verbose=False)\n",
    "ct = ColumnTransformer([(\"ONEHOT\",OneHotEncoder(sparse=False,dtype=int), [1])],remainder='passthrough')\n",
    "model=Pipeline([('column_transform',ct),('cat',cat)])\n",
    "model=model.set_params(**para)"
   ]
  },
  {
   "cell_type": "code",
   "execution_count": null,
   "id": "80e201f2",
   "metadata": {},
   "outputs": [],
   "source": [
    "X_train, X_test, y_train, y_test = train_test_split(X, Y, test_size=0.33, random_state=42)"
   ]
  },
  {
   "cell_type": "code",
   "execution_count": null,
   "id": "130ff456",
   "metadata": {},
   "outputs": [],
   "source": [
    "model=model.fit(X_train,y_train)"
   ]
  },
  {
   "cell_type": "code",
   "execution_count": null,
   "id": "4d04a45b",
   "metadata": {},
   "outputs": [],
   "source": [
    "model.get_params()"
   ]
  },
  {
   "cell_type": "code",
   "execution_count": null,
   "id": "d8071f82",
   "metadata": {},
   "outputs": [],
   "source": [
    "#Hyperparameter Optimization \n",
    "\n",
    "#CATBOOST ALGORITHM\n",
    "#Lossguide\n",
    "params={\n",
    "        'cat__iterations':Integer(50,1000),\n",
    "        'cat__depth':Integer(12,50),\n",
    "        'cat__learning_rate':Real(0.01,1,'log-uniform'),\n",
    "        'cat__random_strength': Real(1e-9, 5, 'log-uniform'), # randomness for scoring splits\n",
    "        'cat__bagging_temperature': Real(0.0, 1.0), # settings of the Bayesian bootstrap\n",
    "        'cat__border_count': Integer(2, 500), # splits for numerical features\n",
    "        'cat__l2_leaf_reg':Real(1,50),\n",
    "        'cat__min_data_in_leaf':Integer(3,50),\n",
    "        'cat__max_leaves':Integer(2,75),\n",
    "        'cat__scale_pos_weight':Real(1,1200)\n",
    "        #'subsample':Real(0.5, 1.0),\n",
    "        }\n",
    "#Cross Validation  \n",
    "#StratifiedKFold\n",
    "cv = StratifiedKFold(n_splits=10,shuffle=True,random_state=0)\n",
    "\n",
    "#Classifier Algorithm\n",
    "cat=CatBoostClassifier(loss_function='Logloss',grow_policy='Lossguide',bootstrap_type='Bayesian',task_type='GPU',metric_period=25,verbose=False)\n",
    "ct = ColumnTransformer([(\"ONEHOT\",OneHotEncoder(sparse=False,dtype=int), [1])],remainder='passthrough')\n",
    "model=Pipeline([('column_transform',ct),('cat',cat)])\n",
    "\n",
    "#Bayesian Optimization\n",
    "search=BayesSearchCV(model,search_spaces=params,cv=cv,scoring=frecall,n_jobs=1,verbose=3,n_iter=10,n_points=1,optimizer_kwargs={'base_estimator': 'GBRT','n_jobs':-1},random_state=0)\n",
    "search_best=search.fit(X,Y)"
   ]
  },
  {
   "cell_type": "code",
   "execution_count": null,
   "id": "37a97e69",
   "metadata": {},
   "outputs": [],
   "source": [
    "from sklearn.metrics import PrecisionRecallDisplay\n",
    "\n",
    "display = PrecisionRecallDisplay.from_estimator(model, X_test, y_test, name=\"GBDT\")\n",
    "\n",
    "\n",
    "_ = display.ax_.set_title(\"2-class Precision-Recall curve\")"
   ]
  },
  {
   "cell_type": "code",
   "execution_count": null,
   "id": "e32a2147",
   "metadata": {},
   "outputs": [],
   "source": [
    "dump(model,open('model.pkl','wb'))"
   ]
  }
 ],
 "metadata": {
  "kernelspec": {
   "display_name": "Python 3 (ipykernel)",
   "language": "python",
   "name": "python3"
  },
  "language_info": {
   "codemirror_mode": {
    "name": "ipython",
    "version": 3
   },
   "file_extension": ".py",
   "mimetype": "text/x-python",
   "name": "python",
   "nbconvert_exporter": "python",
   "pygments_lexer": "ipython3",
   "version": "3.9.7"
  }
 },
 "nbformat": 4,
 "nbformat_minor": 5
}
