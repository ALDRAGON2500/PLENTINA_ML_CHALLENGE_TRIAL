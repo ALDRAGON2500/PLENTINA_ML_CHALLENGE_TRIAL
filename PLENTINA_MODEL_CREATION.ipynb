{
 "cells": [
  {
   "cell_type": "markdown",
   "id": "dcf36cbd",
   "metadata": {},
   "source": [
    "# PLENTINA ML CHALLENGE"
   ]
  },
  {
   "cell_type": "markdown",
   "id": "29b302ee",
   "metadata": {},
   "source": [
    "You are provided a synthetic dataset for a mobile payments application. In this dataset, you are\n",
    "provided the sender and recipient of a transaction as well as whether transactions are tagged as\n",
    "fraud or not fraud. Your task is to build a fraud detection API that can be called to predict\n",
    "whether or not a transaction is fraudulent."
   ]
  },
  {
   "cell_type": "code",
   "execution_count": null,
   "id": "40293159",
   "metadata": {},
   "outputs": [],
   "source": [
    "# Import all necessary python libraries\n",
    "# Data Manipulation Libraries\n",
    "import pandas as pd \n",
    "import numpy as np\n",
    "# Machine Learning Libraries\n",
    "from sklearn.compose import ColumnTransformer\n",
    "from sklearn.preprocessing import OneHotEncoder\n",
    "from sklearn.pipeline import Pipeline\n",
    "from sklearn.model_selection import StratifiedKFold\n",
    "from sklearn.metrics import make_scorer,f1_score,fbeta_score,precision_score,recall_score,confusion_matrix\n",
    "from catboost import CatBoostClassifier\n",
    "# Hyper-parameter Optimization Library\n",
    "from skopt import BayesSearchCV,gbrt_minimize,gp_minimize\n",
    "from skopt.space import Integer,Real,Categorical\n",
    "from skopt.utils import use_named_args\n",
    "#Pickle library for saving and loading model\n",
    "from pickle import load,dump\n",
    "#Data Visualization Library\n",
    "#import plotly.graph_objects as go\n",
    "import plotly.express as px"
   ]
  },
  {
   "cell_type": "markdown",
   "id": "0e9c2e94",
   "metadata": {},
   "source": [
    "# Exploratory Data Analysis"
   ]
  },
  {
   "cell_type": "code",
   "execution_count": null,
   "id": "f4375eec",
   "metadata": {},
   "outputs": [],
   "source": [
    "#Read synthethic mobile payments dataset using pandas\n",
    "df=pd.read_csv('transactions_train.csv')"
   ]
  },
  {
   "cell_type": "code",
   "execution_count": null,
   "id": "3e49e50a",
   "metadata": {},
   "outputs": [],
   "source": [
    "#check the first 10 rows of the data set\n",
    "df.head(10)"
   ]
  },
  {
   "cell_type": "code",
   "execution_count": null,
   "id": "aa9dd1b8",
   "metadata": {},
   "outputs": [],
   "source": [
    "#check dataframe info\n",
    "df.info()"
   ]
  },
  {
   "cell_type": "code",
   "execution_count": null,
   "id": "7c4e9bb9",
   "metadata": {},
   "outputs": [],
   "source": [
    "#check if null\n",
    "df.isnull().sum()"
   ]
  },
  {
   "cell_type": "code",
   "execution_count": null,
   "id": "94085e04",
   "metadata": {},
   "outputs": [],
   "source": [
    "#describe data frame\n",
    "df.describe().applymap('{:,.2f}'.format)"
   ]
  },
  {
   "cell_type": "code",
   "execution_count": null,
   "id": "c771f0ef",
   "metadata": {},
   "outputs": [],
   "source": [
    "#No of unique customers who started transactions\n",
    "len(df['nameOrig'].unique())"
   ]
  },
  {
   "cell_type": "code",
   "execution_count": null,
   "id": "186e6dbe",
   "metadata": {},
   "outputs": [],
   "source": [
    "#Unique Customer ID\n",
    "print(df['nameOrig'].unique())"
   ]
  },
  {
   "cell_type": "code",
   "execution_count": null,
   "id": "0c9979f9",
   "metadata": {},
   "outputs": [],
   "source": [
    "#Customer ID first character \n",
    "print(df.nameOrig.str[0].unique())"
   ]
  },
  {
   "cell_type": "code",
   "execution_count": null,
   "id": "979a14d0",
   "metadata": {},
   "outputs": [],
   "source": [
    "#Histogram of the Customer ID length\n",
    "px.histogram(df,x=df.nameOrig.str.len(),\n",
    "             title='Histogram: Length of Customer ID',\n",
    "             labels={'x':'length of customer ID', 'y':'count'})"
   ]
  },
  {
   "cell_type": "code",
   "execution_count": null,
   "id": "f74ab0a1",
   "metadata": {},
   "outputs": [],
   "source": [
    "#No of unique receipients who started transactions\n",
    "len(df['nameDest'].unique())"
   ]
  },
  {
   "cell_type": "code",
   "execution_count": null,
   "id": "16911d78",
   "metadata": {},
   "outputs": [],
   "source": [
    "#Unique Receipient ID\n",
    "print(df['nameDest'].unique())"
   ]
  },
  {
   "cell_type": "code",
   "execution_count": null,
   "id": "70aed458",
   "metadata": {},
   "outputs": [],
   "source": [
    "#Receipient ID first character \n",
    "print(df['nameDest'].str[0].unique())"
   ]
  },
  {
   "cell_type": "code",
   "execution_count": null,
   "id": "3d31dd98",
   "metadata": {},
   "outputs": [],
   "source": [
    "px.histogram(df,x=df['nameDest'].str.len(),\n",
    "             title='Histogram: Length of Customer ID',\n",
    "             labels={'x':'length of customer ID', 'y':'count'})"
   ]
  },
  {
   "cell_type": "markdown",
   "id": "221fe6c6",
   "metadata": {},
   "source": [
    "# Fraud"
   ]
  },
  {
   "cell_type": "code",
   "execution_count": null,
   "id": "dc996fa3",
   "metadata": {},
   "outputs": [],
   "source": [
    "#fraudulent transactions by step\n",
    "df_step=df.groupby(['step']).sum().reset_index()[['step','isFraud']]\n",
    "fig = px.bar(df_step, x='step', y='isFraud')\n",
    "fig.show()"
   ]
  },
  {
   "cell_type": "code",
   "execution_count": null,
   "id": "e3d2452b",
   "metadata": {},
   "outputs": [],
   "source": [
    "#fraudulent transactions by type\n",
    "df_type=df.groupby(['type']).sum().reset_index()[['type','isFraud']]\n",
    "fig = px.bar(df_type, x='type', y='isFraud')\n",
    "fig.show()"
   ]
  },
  {
   "cell_type": "code",
   "execution_count": null,
   "id": "2f454abd",
   "metadata": {},
   "outputs": [],
   "source": [
    "#Total No. of Fraudulent Transactions\n",
    "df_type['isFraud'].sum()"
   ]
  },
  {
   "cell_type": "code",
   "execution_count": null,
   "id": "743c1762",
   "metadata": {},
   "outputs": [],
   "source": [
    "#Total No. of Fraudulent Transactions (Percentage)\n",
    "np.round(df_type['isFraud'].sum()*100/df.shape[0],2)"
   ]
  },
  {
   "cell_type": "code",
   "execution_count": null,
   "id": "5bc07c48",
   "metadata": {},
   "outputs": [],
   "source": [
    "#transaction dataframe where transactions are fraudulent\n",
    "fraud=df[df['isFraud']==1]"
   ]
  },
  {
   "cell_type": "code",
   "execution_count": null,
   "id": "d0a0064d",
   "metadata": {},
   "outputs": [],
   "source": [
    "px.histogram(fraud,x='amount',\n",
    "             title='Histogram: Fraudulent Transactions',\n",
    "             labels={'x':'AMOUNT', 'y':'COUNT'})"
   ]
  },
  {
   "cell_type": "code",
   "execution_count": null,
   "id": "d5bc9000",
   "metadata": {},
   "outputs": [],
   "source": [
    "px.histogram(fraud,x=fraud['newbalanceOrig']-fraud['oldbalanceOrig'],\n",
    "             title='Histogram: Fraudulent Transactions',\n",
    "             labels={'x':'CUSTOMER BALANCE AFTER TRANSACTION', 'y':'COUNT'},\n",
    "             histnorm='percent' )"
   ]
  },
  {
   "cell_type": "code",
   "execution_count": null,
   "id": "562b684c",
   "metadata": {},
   "outputs": [],
   "source": [
    "px.histogram(fraud,x=fraud['newbalanceDest']-fraud['oldbalanceDest'],\n",
    "             title='Histogram: Fraudulent Transactions',\n",
    "             labels={'x':'RECEIPIENT ACCOUNT BALANCE AFTER TRANSACTION', 'y':'COUNT'},\n",
    "             histnorm='percent' )"
   ]
  },
  {
   "cell_type": "markdown",
   "id": "4d4680f8",
   "metadata": {},
   "source": [
    "# MACHINE LEARNING MODEL"
   ]
  },
  {
   "cell_type": "markdown",
   "id": "b6ab4723",
   "metadata": {},
   "source": [
    "Feature Engineering "
   ]
  },
  {
   "cell_type": "code",
   "execution_count": null,
   "id": "ca30a748",
   "metadata": {},
   "outputs": [],
   "source": [
    "#Feature Engineering Function\n",
    "def transform_data(df):\n",
    "    new_df=pd.DataFrame()\n",
    "    \n",
    "    #if the origin account has no initial balance\n",
    "    y=np.where(df['oldbalanceOrig']>0,df['oldbalanceOrig'],1)\n",
    "    x=df['newbalanceOrig']\n",
    "    #percentage inflow/outlflow of account\n",
    "    new_df['percentage_diff_balanceOrig']=np.round(((x/y)-1)*100,3)\n",
    "    #amount in the account before transaction: Is there an initial balance in the account?\n",
    "    new_df['NoAmountBalanceOrig']=np.where(df['oldbalanceOrig']>0,1,0)\n",
    "\n",
    "    #if the destination account has no initial balance\n",
    "    y=np.where(df['oldbalanceDest']>0,df['oldbalanceDest'],1)\n",
    "    x=df['newbalanceDest']\n",
    "    #percentage inflow/outlflow of the account\n",
    "    new_df['percentage_diff_balanceDest']=np.round(((x/y)-1)*100,3)\n",
    "    #amount in the account before transaction: Is there an initial balance in the account?\n",
    "    new_df['NoAmountBalanceDest']=np.where(df['oldbalanceDest']>0,1,0)\n",
    "\n",
    "    #Transaction Inflow or Outlfow to each account \n",
    "    #1:Inflow\n",
    "    #0: No Change\n",
    "    #-1: Outflow\n",
    "    new_df['signbalanceOrig']=np.sign(df['newbalanceOrig']-df['oldbalanceOrig'])\n",
    "    new_df['signbalanceDest']=np.sign(df['newbalanceDest']-df['oldbalanceDest'])\n",
    "\n",
    "    x=np.where(df['amount']>0,df['amount'],1)\n",
    "    new_df['AmountBalanceDiffOrig']=np.absolute((df['newbalanceOrig']-df['oldbalanceOrig']))/x\n",
    "    new_df['AmountBalanceDiffDest']=np.absolute((df['newbalanceDest']-df['oldbalanceDest']))/x\n",
    "\n",
    "    new_df['AmountBalanceDiffOrig']=new_df['AmountBalanceDiffOrig'].round(3)\n",
    "    new_df['AmountBalanceDiffDest']=new_df['AmountBalanceDiffDest'].round(3)\n",
    "\n",
    "    new_df['isAmount']=np.where(df['amount']>0,1,0)\n",
    "    \n",
    "    \n",
    "    xi=df[['step','type']]\n",
    "    xii=new_df[['percentage_diff_balanceOrig', 'NoAmountBalanceOrig','percentage_diff_balanceDest', 'NoAmountBalanceDest', 'signbalanceOrig','signbalanceDest', 'AmountBalanceDiffOrig', 'AmountBalanceDiffDest','isAmount']]\n",
    "    \n",
    "    return pd.concat([xi,xii],axis=1)"
   ]
  },
  {
   "cell_type": "code",
   "execution_count": null,
   "id": "505c2c67",
   "metadata": {},
   "outputs": [],
   "source": [
    "X=transform_data(df).values\n",
    "X"
   ]
  },
  {
   "cell_type": "code",
   "execution_count": null,
   "id": "2ce423dd",
   "metadata": {},
   "outputs": [],
   "source": [
    "Y=df['isFraud'].values\n",
    "Y"
   ]
  },
  {
   "cell_type": "markdown",
   "id": "604596fb",
   "metadata": {},
   "source": [
    "Genetic Classification Algorithm: CatBoostClassifier"
   ]
  },
  {
   "cell_type": "code",
   "execution_count": null,
   "id": "ad59d1a2",
   "metadata": {},
   "outputs": [],
   "source": [
    "#Classifier Algorithm\n",
    "cat=CatBoostClassifier(loss_function='Logloss',\n",
    "                       grow_policy='SymmetricTree',\n",
    "                       bootstrap_type='Bayesian',task_type='GPU',\n",
    "                       metric_period=25,\n",
    "                       verbose=False)\n",
    "#ONE HOT ENCODING FOR type column\n",
    "ct = ColumnTransformer([(\"ONEHOT\",OneHotEncoder(sparse=False,dtype=int), [1])],remainder='passthrough')\n",
    "#MODEL PIPELINE\n",
    "model=Pipeline([('column_transform',ct),('cat',cat)])"
   ]
  },
  {
   "cell_type": "markdown",
   "id": "81791ef9",
   "metadata": {},
   "source": [
    "Hyper Parameter Optimization using Bayesian Search"
   ]
  },
  {
   "cell_type": "code",
   "execution_count": null,
   "id": "887da060",
   "metadata": {},
   "outputs": [],
   "source": [
    "#Hyperparameter Optimization \n",
    "#Algorithm Parameters\n",
    "params={\n",
    "        'cat__iterations':Integer(50,1000),\n",
    "        'cat__depth':Integer(3,16),\n",
    "        'cat__learning_rate':Real(0.01,1,'log-uniform'),\n",
    "        'cat__random_strength': Real(1e-9, 5, 'log-uniform'), # randomness for scoring splits\n",
    "        'cat__bagging_temperature': Real(0.0, 1.0), # settings of the Bayesian bootstrap\n",
    "        'cat__border_count': Integer(2, 500), # splits for numerical features\n",
    "        'cat__l2_leaf_reg':Real(1,50),\n",
    "        'cat__min_data_in_leaf':Integer(3,50),\n",
    "        #'cat__max_leaves':Integer(2,75),\n",
    "        'cat__scale_pos_weight':Real(1,1200)\n",
    "        #'subsample':Real(0.5, 1.0),\n",
    "        }\n",
    "#Cross Validation  \n",
    "#StratifiedKFold\n",
    "cv = StratifiedKFold(n_splits=10,shuffle=True,random_state=0)\n",
    "\n",
    "\n",
    "#Bayesian Optimization\n",
    "search=BayesSearchCV(model,search_spaces=params,\n",
    "                     cv=cv,\n",
    "                     scoring='average_precision',\n",
    "                     n_jobs=1,verbose=3,\n",
    "                     n_iter=10,\n",
    "                     n_points=1,\n",
    "                     optimizer_kwargs={'base_estimator': 'GBRT','n_jobs':-1},\n",
    "                     random_state=0)\n",
    "search_best=search.fit(X,Y)"
   ]
  },
  {
   "cell_type": "code",
   "execution_count": null,
   "id": "de0783c3",
   "metadata": {},
   "outputs": [],
   "source": [
    "#Optimized Parameters\n",
    "para=dict(search_best.best_params_)\n",
    "para"
   ]
  },
  {
   "cell_type": "code",
   "execution_count": null,
   "id": "376f6606",
   "metadata": {},
   "outputs": [],
   "source": [
    "para={'cat__bagging_temperature': 0.23251402823026496,\n",
    " 'cat__border_count': 404,\n",
    " 'cat__depth': 10,\n",
    " 'cat__iterations': 306,\n",
    " 'cat__l2_leaf_reg': 39.42720773809657,\n",
    " 'cat__learning_rate': 0.019116354652261806,\n",
    " 'cat__min_data_in_leaf': 16,\n",
    " 'cat__random_strength': 2.8820006880385564e-07,\n",
    " 'cat__scale_pos_weight': 20.07122072628452}"
   ]
  },
  {
   "cell_type": "code",
   "execution_count": null,
   "id": "eabaee4a",
   "metadata": {},
   "outputs": [],
   "source": [
    "#Lossguide Parameters\n",
    "#para={'cat__bagging_temperature': 0.25837166197274813,\n",
    "# 'cat__border_count': 16,\n",
    "# 'cat__depth': 17,\n",
    "# 'cat__iterations': 758,\n",
    "# 'cat__l2_leaf_reg': 27.557949627695663,\n",
    "# 'cat__learning_rate': 0.014570946584675377,\n",
    "# 'cat__max_leaves': 35,\n",
    "# 'cat__min_data_in_leaf': 26,\n",
    "# 'cat__random_strength': 0.005257823862746219,\n",
    "# 'cat__scale_pos_weight': 302.93935619924673}"
   ]
  },
  {
   "cell_type": "markdown",
   "id": "2597be5e",
   "metadata": {},
   "source": [
    "# MODEL TESTING"
   ]
  },
  {
   "cell_type": "code",
   "execution_count": null,
   "id": "6e44a387",
   "metadata": {},
   "outputs": [],
   "source": [
    "#Split Dataset into Train Set and Test Set \n",
    "from sklearn.model_selection import train_test_split\n",
    "\n",
    "X_train, X_test, y_train, y_test = train_test_split(X, Y, test_size=0.33, random_state=42)\n",
    "\n",
    "\n",
    "cat=CatBoostClassifier(loss_function='Logloss',grow_policy='SymmetricTree',bootstrap_type='Bayesian',task_type='GPU',metric_period=25,verbose=False)\n",
    "ct = ColumnTransformer([(\"ONEHOT\",OneHotEncoder(sparse=False,dtype=int), [1])],remainder='passthrough')\n",
    "model=Pipeline([('column_transform',ct),('cat',cat)])\n",
    "model=model.set_params(**para)\n",
    "\n",
    "model=model.fit(X_train,y_train)"
   ]
  },
  {
   "cell_type": "code",
   "execution_count": null,
   "id": "4d04a45b",
   "metadata": {},
   "outputs": [],
   "source": [
    "model.get_params()"
   ]
  },
  {
   "cell_type": "code",
   "execution_count": null,
   "id": "37a97e69",
   "metadata": {},
   "outputs": [],
   "source": [
    "#Precision Recall Curve for imbalanced data set\n",
    "\n",
    "from sklearn.metrics import PrecisionRecallDisplay\n",
    "\n",
    "display = PrecisionRecallDisplay.from_estimator(model, X_test, y_test, name=\"GBDT\")\n",
    "\n",
    "\n",
    "_ = display.ax_.set_title(\"FRAUD DETECTION MODEL:Precision-Recall curve\")"
   ]
  },
  {
   "cell_type": "code",
   "execution_count": null,
   "id": "92402e14",
   "metadata": {},
   "outputs": [],
   "source": [
    "#Classification Report\n",
    "from sklearn.metrics import classification_report\n",
    "\n",
    "print(classification_report(y_test,model.predict(X_test)))"
   ]
  },
  {
   "cell_type": "markdown",
   "id": "773ddbb8",
   "metadata": {},
   "source": [
    "# SAVE MODEL"
   ]
  },
  {
   "cell_type": "code",
   "execution_count": null,
   "id": "3194652d",
   "metadata": {},
   "outputs": [],
   "source": [
    "#Retrain model on entire data set\n",
    "model=model.fit(X,Y)"
   ]
  },
  {
   "cell_type": "code",
   "execution_count": null,
   "id": "e32a2147",
   "metadata": {},
   "outputs": [],
   "source": [
    "dump(model,open('gbdtmodel.pkl','wb'))"
   ]
  }
 ],
 "metadata": {
  "kernelspec": {
   "display_name": "Python 3 (ipykernel)",
   "language": "python",
   "name": "python3"
  },
  "language_info": {
   "codemirror_mode": {
    "name": "ipython",
    "version": 3
   },
   "file_extension": ".py",
   "mimetype": "text/x-python",
   "name": "python",
   "nbconvert_exporter": "python",
   "pygments_lexer": "ipython3",
   "version": "3.9.7"
  }
 },
 "nbformat": 4,
 "nbformat_minor": 5
}
